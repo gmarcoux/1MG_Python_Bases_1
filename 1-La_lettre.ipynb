{
 "cells": [
  {
   "cell_type": "markdown",
   "metadata": {},
   "source": [
    "# La lettre\n",
    "\n",
    "Dessinez la lettre (en capitale) qui vous a été attribuée avec la tortue.\n",
    "\n",
    "\n",
    "Aide :\n",
    "https://apprendre.modulo-info.ch/prog1/dessiner.html "
   ]
  },
  {
   "cell_type": "code",
   "execution_count": null,
   "metadata": {},
   "outputs": [],
   "source": [
    "# ---------------------------------------\n",
    "# NE PAS SUPPRIMER LES LIGNES CI-DESSOUS\n",
    "# ---------------------------------------\n",
    "# ajout des bibliothèques pour pouvoir utiliser la tortue\n",
    "import ipyturtle3 as turtle\n",
    "from ipyturtle3 import hold_canvas\n",
    "# création de la zone de dessin (800 x 250 pixels)\n",
    "mc=turtle.Canvas(width=800,height=250)\n",
    "display(mc)\n",
    "\n",
    "# initialisation de la fenêtre et de la tortue\n",
    "mts=turtle.TurtleScreen(mc)\n",
    "mts.bgcolor(\"lightgreen\")\n",
    "\n",
    "# création de la tortue\n",
    "t = turtle.Turtle(mts)\n",
    "# ---------------------------------------\n",
    "# COMMENCER À CODER ICI\n",
    "# ---------------------------------------\n",
    "\n",
    "# exemple (à supprimer si vous voulez)\n",
    "t.penup() # lève le stylo\n",
    "t.goto(-50, 0) # déplace la tortue\n",
    "t.pendown() # pose le stylo\n",
    "t.left(25) # tourne à gauche de 25°\n",
    "t.forward(100) # avance de 100\n",
    "###"
   ]
  }
 ],
 "metadata": {
  "kernelspec": {
   "display_name": "Python 3",
   "language": "python",
   "name": "python3"
  },
  "language_info": {
   "codemirror_mode": {
    "name": "ipython",
    "version": 3
   },
   "file_extension": ".py",
   "mimetype": "text/x-python",
   "name": "python",
   "nbconvert_exporter": "python",
   "pygments_lexer": "ipython3",
   "version": "3.12.7"
  }
 },
 "nbformat": 4,
 "nbformat_minor": 2
}
