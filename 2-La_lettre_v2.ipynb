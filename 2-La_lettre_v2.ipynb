{
 "cells": [
  {
   "cell_type": "markdown",
   "metadata": {},
   "source": [
    "# La lettre - Version 2\n",
    "\n",
    "1. On va modifier le code de notre lettre pour créer une fonction.\n",
    "2. On modifiera ensuite notre fonction pour pouvoir changer la taille, la couleur et la position de la lettre\n",
    "\n",
    "Aide : https://apprendre.modulo-info.ch/prog1/definir.html"
   ]
  },
  {
   "cell_type": "code",
   "execution_count": null,
   "metadata": {},
   "outputs": [],
   "source": [
    "# ---------------------------------------\n",
    "# NE PAS SUPPRIMER LES LIGNES CI-DESSOUS\n",
    "# ---------------------------------------\n",
    "#%% \n",
    "# ajout des bibliothèques pour pouvoir utiliser la tortue\n",
    "import ipyturtle3 as turtle\n",
    "from ipyturtle3 import hold_canvas\n",
    "# création de la zone de dessin (800 x 250 pixels)\n",
    "mc=turtle.Canvas(width=800,height=250)\n",
    "display(mc)\n",
    "\n",
    "# initialisation de la fenêtre et de la tortue\n",
    "mts=turtle.TurtleScreen(mc)\n",
    "mts.bgcolor(\"lightgreen\")\n",
    "\n",
    "# création de la tortue\n",
    "t = turtle.Turtle(mts)\n",
    "#%% \n",
    "# ---------------------------------------\n",
    "# COMMENCER À CODER ICI\n",
    "# ---------------------------------------\n",
    "\n",
    "# Modifier pour créer sa fonction\n",
    "def A():       \n",
    "    # ATTENTION ! TOUT DOIT ETRE DECALÉ POUR CRÉER UN \"BLOC\"! \n",
    "    t.forward(50) # exemple - à supprimer\n",
    "\n",
    "    # Dessiner notre lettre\n",
    "    \n",
    "\n",
    "# on a fini de définir notre fonction\n",
    "# on décale dans l'autre sens\n",
    "# on appelle la fonction NOM() <- NE PAS OUBLIER LES PARENTHESES !!\n",
    "A()\n",
    "\n"
   ]
  }
 ],
 "metadata": {
  "kernelspec": {
   "display_name": "Python 3",
   "language": "python",
   "name": "python3"
  },
  "language_info": {
   "codemirror_mode": {
    "name": "ipython",
    "version": 3
   },
   "file_extension": ".py",
   "mimetype": "text/x-python",
   "name": "python",
   "nbconvert_exporter": "python",
   "pygments_lexer": "ipython3",
   "version": "3.12.7"
  }
 },
 "nbformat": 4,
 "nbformat_minor": 2
}
