{
 "cells": [
  {
   "cell_type": "markdown",
   "metadata": {},
   "source": [
    "# Le Prénom\n",
    "\n",
    "Écrivez votre prénom en récupérant le code de vos camarades pour les lettres qui le composent :\n",
    "1. Copiez le code des lettres depuis Teams\n",
    "2. Appelez les fonctions A(), B()... \n",
    "3. Pensez à déplacer la tortue après avoir écrit une lettre pour éviter qu'elles se chevauchent !\n"
   ]
  },
  {
   "cell_type": "code",
   "execution_count": null,
   "metadata": {},
   "outputs": [],
   "source": [
    "# ---------------------------------------\n",
    "# NE PAS SUPPRIMER LES LIGNES CI-DESSOUS\n",
    "# ---------------------------------------\n",
    "# ajout des bibliothèques pour pouvoir utiliser la tortue\n",
    "import ipyturtle3 as turtle\n",
    "from ipyturtle3 import hold_canvas\n",
    "# création de la zone de dessin (800 x 250 pixels)\n",
    "mc=turtle.Canvas(width=800,height=250)\n",
    "display(mc)\n",
    "\n",
    "# initialisation de la fenêtre et de la tortue\n",
    "mts=turtle.TurtleScreen(mc)\n",
    "mts.bgcolor(\"lightgreen\")\n",
    "\n",
    "# création de la tortue\n",
    "t = turtle.Turtle(mts)\n",
    "# ---------------------------------------\n",
    "# COMMENCER À CODER ICI\n",
    "# ---------------------------------------\n",
    "\n",
    "# coller ici toutes les fonctions des lettres qui composent votre prénom\n",
    "\n",
    "\n",
    "# appeler les fonctions\n",
    "\n",
    "# remet à zéro\n",
    "t.penup() # lève le stylo\n",
    "t.goto(0, 0) # déplace la tortue au milieu de l'écran\n",
    "t.setheading(0) # remet la tortue droite\n",
    "t.pendown() # pose le stylo"
   ]
  }
 ],
 "metadata": {
  "kernelspec": {
   "display_name": "Python 3",
   "language": "python",
   "name": "python3"
  },
  "language_info": {
   "codemirror_mode": {
    "name": "ipython",
    "version": 3
   },
   "file_extension": ".py",
   "mimetype": "text/x-python",
   "name": "python",
   "nbconvert_exporter": "python",
   "pygments_lexer": "ipython3",
   "version": "3.12.7"
  }
 },
 "nbformat": 4,
 "nbformat_minor": 2
}
