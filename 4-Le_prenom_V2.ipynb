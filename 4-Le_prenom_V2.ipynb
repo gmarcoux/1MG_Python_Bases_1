{
 "cells": [
  {
   "cell_type": "markdown",
   "metadata": {},
   "source": [
    "# Le prénom - V2\n",
    "\n",
    "On va maintenant apprendre à écrire notre prénom mais aussi n'importe quel autre prénom facilement :\n",
    "1. Recopiez le code de l'exercice précédent\n",
    "2. Créez une variable nommée *prenom* et stocker votre prénom dedans \n",
    "3. Pour chaque lettre dans *prenom*, dites au programme de choisir la bonne lettre et de la dessiner\n",
    "\n",
    "Aide : \\\n",
    "https://apprendre.modulo-info.ch/prog1/repeter.html \\\n",
    "https://apprendre.modulo-info.ch/prog1/definir.html#variable-globale\n"
   ]
  },
  {
   "cell_type": "code",
   "execution_count": null,
   "metadata": {},
   "outputs": [],
   "source": [
    "# ---------------------------------------\n",
    "# NE PAS SUPPRIMER LES LIGNES CI-DESSOUS\n",
    "# ---------------------------------------\n",
    "# ajout des bibliothèques pour pouvoir utiliser la tortue\n",
    "import ipyturtle3 as turtle\n",
    "from ipyturtle3 import hold_canvas\n",
    "# création de la zone de dessin (800 x 250 pixels)\n",
    "mc=turtle.Canvas(width=800,height=250)\n",
    "display(mc)\n",
    "\n",
    "# initialisation de la fenêtre et de la tortue\n",
    "mts=turtle.TurtleScreen(mc)\n",
    "mts.bgcolor(\"lightgreen\")\n",
    "\n",
    "# création de la tortue\n",
    "t = turtle.Turtle(mts)\n",
    "# ---------------------------------------\n",
    "# COMMENCER À CODER ICI\n",
    "# ---------------------------------------\n",
    "\n",
    "def tortue_a_la_ligne(y) :\n",
    "    t.penup() # lève le stylo\n",
    "    t.goto(0, y) # déplace la tortue au milieu de l'écran, coordonnée Y\n",
    "    t.setheading(0) # remet la tortue droite\n",
    "    t.pendown() # pose le stylo\n",
    "\n",
    "# créer la variable et mettre votre prénom dedans\n",
    "\n",
    "# boucle for\n",
    "\n",
    "    # if dans la boucle\n"
   ]
  }
 ],
 "metadata": {
  "kernelspec": {
   "display_name": "Python 3",
   "language": "python",
   "name": "python3"
  },
  "language_info": {
   "codemirror_mode": {
    "name": "ipython",
    "version": 3
   },
   "file_extension": ".py",
   "mimetype": "text/x-python",
   "name": "python",
   "nbconvert_exporter": "python",
   "pygments_lexer": "ipython3",
   "version": "3.12.7"
  }
 },
 "nbformat": 4,
 "nbformat_minor": 2
}
